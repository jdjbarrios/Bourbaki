{
  "nbformat": 4,
  "nbformat_minor": 0,
  "metadata": {
    "colab": {
      "provenance": [],
      "include_colab_link": true
    },
    "kernelspec": {
      "name": "python3",
      "display_name": "Python 3"
    },
    "language_info": {
      "name": "python"
    }
  },
  "cells": [
    {
      "cell_type": "markdown",
      "metadata": {
        "id": "view-in-github",
        "colab_type": "text"
      },
      "source": [
        "<a href=\"https://colab.research.google.com/github/anelglvz/Matematicas_Ciencia_Datos/blob/main/%C3%81lgebra/Textrank.ipynb\" target=\"_parent\"><img src=\"https://colab.research.google.com/assets/colab-badge.svg\" alt=\"Open In Colab\"/></a>"
      ]
    },
    {
      "cell_type": "markdown",
      "metadata": {
        "id": "ccYq5VAqlz-T"
      },
      "source": [
        "## Implementación de TextRank para la obtención de resúmenes"
      ]
    },
    {
      "cell_type": "markdown",
      "metadata": {
        "id": "QkXRhT3nlsuC"
      },
      "source": [
        "En este Notebook se implementará TextRank para obtener un resumen con las oraciones clave de todo un texto."
      ]
    },
    {
      "cell_type": "markdown",
      "metadata": {
        "id": "CDdVl3jFU6pW"
      },
      "source": [
        "# Dependencias"
      ]
    },
    {
      "cell_type": "code",
      "metadata": {
        "id": "m5panRZIU04F"
      },
      "source": [
        "%%capture\n",
        "!pip install wikipedia git+https://github.com/neuml/txtai#egg=txtai[pipeline]"
      ],
      "execution_count": null,
      "outputs": []
    },
    {
      "cell_type": "code",
      "source": [
        "# PUEDE ser necesario utilizar una versión anterior de pillow\n",
        "!pip install Pillow==9.0.0"
      ],
      "metadata": {
        "colab": {
          "base_uri": "https://localhost:8080/",
          "height": 277
        },
        "id": "Lgm_83kCa_LO",
        "outputId": "233f19d3-3093-4af5-db68-8e4c0fd1c8fe"
      },
      "execution_count": null,
      "outputs": [
        {
          "output_type": "stream",
          "name": "stdout",
          "text": [
            "Looking in indexes: https://pypi.org/simple, https://us-python.pkg.dev/colab-wheels/public/simple/\n",
            "Collecting Pillow==9.0.0\n",
            "  Downloading Pillow-9.0.0-cp310-cp310-manylinux_2_17_x86_64.manylinux2014_x86_64.whl (4.3 MB)\n",
            "\u001b[2K     \u001b[90m━━━━━━━━━━━━━━━━━━━━━━━━━━━━━━━━━━━━━━━━\u001b[0m \u001b[32m4.3/4.3 MB\u001b[0m \u001b[31m40.6 MB/s\u001b[0m eta \u001b[36m0:00:00\u001b[0m\n",
            "\u001b[?25hInstalling collected packages: Pillow\n",
            "  Attempting uninstall: Pillow\n",
            "    Found existing installation: Pillow 8.4.0\n",
            "    Uninstalling Pillow-8.4.0:\n",
            "      Successfully uninstalled Pillow-8.4.0\n",
            "Successfully installed Pillow-9.0.0\n"
          ]
        },
        {
          "output_type": "display_data",
          "data": {
            "application/vnd.colab-display-data+json": {
              "pip_warning": {
                "packages": [
                  "PIL"
                ]
              }
            }
          },
          "metadata": {}
        }
      ]
    },
    {
      "cell_type": "code",
      "metadata": {
        "id": "S_urJE6MrUmm",
        "colab": {
          "base_uri": "https://localhost:8080/"
        },
        "outputId": "f9857373-d1b1-4b5d-9c1c-da369f60b073"
      },
      "source": [
        "import re\n",
        "\n",
        "import pandas as pd\n",
        "import numpy as np\n",
        "import scipy.linalg as splinalg\n",
        "\n",
        "import nltk\n",
        "from nltk.tokenize import sent_tokenize, word_tokenize\n",
        "from nltk.corpus import stopwords\n",
        "from nltk.stem import PorterStemmer\n",
        "\n",
        "import wikipedia\n",
        "\n",
        "from txtai.pipeline import Translation"
      ],
      "execution_count": null,
      "outputs": [
        {
          "output_type": "stream",
          "name": "stderr",
          "text": [
            "[nltk_data] Downloading package averaged_perceptron_tagger to\n",
            "[nltk_data]     /root/nltk_data...\n",
            "[nltk_data]   Unzipping taggers/averaged_perceptron_tagger.zip.\n",
            "[nltk_data] Downloading package cmudict to /root/nltk_data...\n",
            "[nltk_data]   Unzipping corpora/cmudict.zip.\n"
          ]
        }
      ]
    },
    {
      "cell_type": "code",
      "metadata": {
        "colab": {
          "base_uri": "https://localhost:8080/"
        },
        "id": "UxckIS4y1EMR",
        "outputId": "09eec1de-33a1-44d6-9295-528c91d448c7"
      },
      "source": [
        "nltk.download(\"punkt\")\n",
        "nltk.download('stopwords')"
      ],
      "execution_count": null,
      "outputs": [
        {
          "output_type": "stream",
          "name": "stderr",
          "text": [
            "[nltk_data] Downloading package punkt to /root/nltk_data...\n",
            "[nltk_data]   Unzipping tokenizers/punkt.zip.\n",
            "[nltk_data] Downloading package stopwords to /root/nltk_data...\n",
            "[nltk_data]   Unzipping corpora/stopwords.zip.\n"
          ]
        },
        {
          "output_type": "execute_result",
          "data": {
            "text/plain": [
              "True"
            ]
          },
          "metadata": {},
          "execution_count": 2
        }
      ]
    },
    {
      "cell_type": "code",
      "metadata": {
        "id": "Ov9GnghY7iv1",
        "colab": {
          "base_uri": "https://localhost:8080/"
        },
        "outputId": "3561c146-3d7c-4bcc-cc09-7f4cbd051e19"
      },
      "source": [
        "# Radicalizador\n",
        "stemmer = PorterStemmer()\n",
        "\n",
        "# Palabras de paro\n",
        "cached_stopwords = stopwords.words('english')\n",
        "print(cached_stopwords[:10])\n",
        "\n",
        "# Traductor\n",
        "translate = Translation()"
      ],
      "execution_count": null,
      "outputs": [
        {
          "output_type": "stream",
          "name": "stdout",
          "text": [
            "['i', 'me', 'my', 'myself', 'we', 'our', 'ours', 'ourselves', 'you', \"you're\"]\n"
          ]
        }
      ]
    },
    {
      "cell_type": "markdown",
      "metadata": {
        "id": "WyYn_meLU_SE"
      },
      "source": [
        "# Datos"
      ]
    },
    {
      "cell_type": "markdown",
      "metadata": {
        "id": "rxh6OST4lp95"
      },
      "source": [
        "Los datos que ocuparemos serán el texto de páginas de Wikipedia. Descargaremos el texto ocupando el módulo [```wikipedia```](https://pypi.org/project/wikipedia/) que es un \"wrapper\" del API de Wikipedia. A este texto lo dividiremos en oraciones, procesaremos cada oración, radicalizaremos cada palabra, y aplicaremos TextRank para obtener las oraciones más importantes de todo el documento."
      ]
    },
    {
      "cell_type": "markdown",
      "metadata": {
        "id": "qpg8u735nGUj"
      },
      "source": [
        "## Lectura de los datos"
      ]
    },
    {
      "cell_type": "markdown",
      "metadata": {
        "id": "ADUkdhJmnQK0"
      },
      "source": [
        "Descargamos artículos de Wikipedia."
      ]
    },
    {
      "cell_type": "code",
      "metadata": {
        "colab": {
          "base_uri": "https://localhost:8080/"
        },
        "id": "JXH8g08gSHAO",
        "outputId": "775c9fbd-a175-4cac-faa8-ac34f4fa5c63"
      },
      "source": [
        "wiki = wikipedia.page('Expropiación del petróleo en México')\n",
        "book = wiki.content\n",
        "print(book)"
      ],
      "execution_count": null,
      "outputs": [
        {
          "output_type": "stream",
          "name": "stdout",
          "text": [
            "The Mexican oil expropriation (Spanish: expropiación petrolera) was the nationalization of all petroleum reserves, facilities, and foreign oil companies in Mexico on March 18, 1938.  In accordance with Article 27 of the Constitution of 1917, President Lázaro Cárdenas declared that all mineral and oil reserves found within Mexico belong to \"the nation\", i.e., the federal government. The Mexican government established a state-owned petroleum company, Petróleos Mexicanos, or PEMEX.  For a short period, this measure caused an international boycott of Mexican products in the following years, especially by the United States, the United Kingdom, and the Netherlands, but with the outbreak of World War II and the alliance between Mexico and the Allies, the disputes with private companies over compensation were resolved. The anniversary, March 18, is now a Mexican civic holiday.\n",
            "\n",
            "\n",
            "== Background ==\n",
            "\n",
            "On August 16, 1935, the Petroleum Workers Union of Mexico (Sindicato de Trabajadores Petroleros de la República Mexicana) was formed and one of the first actions was the writing of a lengthy draft contract transmitted to the petroleum companies demanding a 40-hour working week, a full salary paid in the event of sickness, and the payment of 65 million pesos towards benefits and wages. The foreign oil companies refused to sign the agreement, and counter offered with a payment of 14 million pesos toward wages and benefits.On November 3, 1937, the union demanded that the companies sign the collective agreement and on May 17, the union summoned a strike in case their demands were not met. On May 28 the strike became effective throughout the country.\n",
            "The petroleum workers' struggle was well regarded by the President and the population despite problems caused by the petroleum shortage. Due to these problems, the union accepted a lift of the strike on June 9, after the president urged them to present their case before the General Arbitration and Conciliation Board (Junta General de Conciliación y Arbitraje). In July, as instructed by the arbitration board, a commission of financial experts was formed that investigated the petroleum companies' finances, concluding that their profits easily permitted them to cover the demands of the workers. The report stated that just one company (El Aguila) had received annual profits of over 55 million pesos. The arbitration board concluded that the oil companies should pay 26 million pesos for wages and benefits to the workers. \n",
            "The companies, however, insisted the demands would cripple production and bankrupt them, and refused to pay. The president once again intervened to mediate between the parties, and met with oil company representatives at the National Palace on September 2. In this meeting, one of the El Aguila representatives took issue with the description of it being a foreign company, and stated that El Aguila was a Mexican company. In response, Jesus Silva Herzog (present in the meeting) responded with a financial newspaper from London that cited a report from the Royal Dutch Shell of 1928: \"Our Mexican subsidiary, Oil Company El Aguila, has obtained good returns during the last fiscal cycle.\" It was also explained that El Aguila de Mexico would set the price of an oil barrel at 1.96 when sold to The Eagle Shipping company. This price was below the market value of US$3.19 per barrel. This way profits would be hidden to the Mexican treasury, and taxes were saved.\n",
            "\n",
            "But, on December 8, the companies hired other unemployed workers and had not responded to the arbitration board. On December 18, 1937, the board gave a verdict in favor of the union by means of a \"laudo\" (binding judgment in arbitration) which demanded that the companies fulfil the requirements of the petitions and pay 26 million pesos in lost salaries. The petroleum companies initiated a lawsuit on January 2, 1938 before the Mexican Supreme Court to protect their property from the labor union and arbitration board, which denied the request.\n",
            "Consequently, the foreign companies rebelled against the imposed contract, and the maximum Judicial Authority responded by rendering a decision on March 1, giving the companies until March 7 to pay the 26 million pesos penalty.\n",
            "In 1935, all companies in the business of extraction, processing, and exporting of oil in Mexico were foreign companies with foreign capital. These companies attempted to block the creation of labor unions and used legal and illegal tactics to do so. However, the creation of individual unions within each company was made possible, but work conditions differed from one another.\n",
            "On December 27, 1935, the Sindicato Único de Trabajadores Petroleros was created, despite the legal opposition in the states of Tamaulipas and Veracruz. On January 29, 1936, this union joined the Comité de Defensa Proletaria (\"Committee of Proletarian Defense\") which would become in February the Confederation of Mexican Workers (CTM). On July 20, the union celebrated its first convention, in which it was proposed a project of general contracts for each oil company and it was decided on a strike to push towards an agreement.\n",
            "Lázaro Cárdenas intervened between the union and the oil companies in order to force an agreement on the contract. The strike was delayed for six months, but the companies never agreed to the contract and on May 28, the strike took place. The entire country was paralyzed for 12 days, with consumers unable to buy gasoline. Cárdenas convinced the union to end the strike until a decision by the companies could be made. However, the companies declared themselves unable to meet the demands because of financial problems. Cárdenas ordered an investigation and on August 3, and the findings were that the Mexican oil industry produced higher returns than the U.S. oil industry.\n",
            "\n",
            "\n",
            "== Legal conflicts ==\n",
            "After the publication of the findings, the oil companies threatened to leave Mexico and take all of their capital with them. The government entity in charge of the conflict between these companies and the union, the Junta Federal de Conciliación y Arbitraje (Federal Conciliation and Arbitration Board), was not able to make a decision quickly and the union declared a 24-hour strike in protest on December 8.\n",
            "On December 18, the Arbitration Board declared in favor of the union. The oil companies had to pay 26 million pesos of wages lost because of the strike, but they appealed to the Supreme Court. The Supreme Court then rejected the appeal and ordered them to raise salaries and improve working conditions for the union members. The oil companies protested this decision and President Cárdenas mediated a compromise; the union would accept 26 million pesos. Cárdenas offered to end the strike if the oil companies paid the sum. According to witnesses of this meeting, representatives of the oil companies asked the President \"Who can guarantee that the strike will be over\", to which the President replied \"I, the President of the Republic.\" After the businessmen asked with sarcasm \"You?\" President Cárdenas ended the meeting saying \"Sirs, we are finished!\". Cárdenas moved to expropriate the oil industry and create a national oil company, PEMEX.\n",
            "\n",
            "\n",
            "== Oil Expropriation Day, March 18, 1938 ==\n",
            "On March 18, 1938 President Cárdenas embarked on the expropriation of all oil resources and facilities by the state, nationalizing the U.S. and Anglo-Dutch (Mexican Eagle Petroleum Company) operating companies. Two hours before informing his cabinet of his decision, he made the announcement on the radio to the rest of the country. Five days later, a crowd of 200,000 (according to the press) rallied in the zócalo in support of Cárdenas's action. On April 12, 1938, a crowd of thousands of all classes gathered in front of the Palacio de Bellas Artes to make donations to pay the debt to foreign companies. Donations varied from chickens to jewelry. (see photo).\n",
            "On June 7, 1938, President Cárdenas issued a decree creating Petróleos Mexicanos (PEMEX), with exclusive rights over exploration, extraction, refining, and commercialization of oil in Mexico. On June 20, PEMEX started operations.\n",
            "\n",
            "\n",
            "== Opposition ==\n",
            "\n",
            "\n",
            "=== International ===\n",
            "In retaliation, the oil companies initiated a public relations campaign against Mexico, urging people to stop buying Mexican goods and lobbying to embargo U.S. technology to Mexico. Many foreign governments closed their markets to Mexican oil, hoping that PEMEX would drown in its own oil. However, the U.S. government of Franklin Delano Roosevelt had issued the Good Neighbor Policy, aiming to recalibrate U.S.-Latin American relations; the U.S. government did not intervene to aid U.S. oil companies affected by the Mexican  expropriation. Mexican finances suffered due to the boycott, the Mexican peso was devalued, and an immediate 20% increase in prices was suffered by the Mexican population. In a trip to New York to negotiate with oil companies,  Mexican treasury minister, Suarez, serendipitously met an American intermediate, William Rhodes Davis from Davis Oil Company, who had a refinery in Europe, and asked for a collaboration. Davis mediated between Mexico and Germany to a barter agreement where Mexico would give crude oil to Davis, who then would provide refined oil products to Germany in exchange for machinery to Mexico. By 1940, Mexico had an agreement with the American Sinclair Oil Corporation to sell crude oil to the U.S, and the full-scale war in Europe guaranteed that Mexican oil would have international customers. PEMEX developed into one of the largest oil companies in the world and helped Mexico become the world's seventh-largest oil exporter.\n",
            "\n",
            "\n",
            "=== Domestic ===\n",
            "Saturnino Cedillo, a cacique from San Luis Potosí and former Secretary of Agriculture, showed the strongest opposition to Cárdenas's measures. Cedillo had in the past supported Cárdenas in a conflict with ex-President Plutarco Elías Calles, but disagreed with his plan of reforms. On May 15 of the same year, the state congress of San Luis Potosí issued a decree where it refused to recognize Cárdenas as President and declared that the expropiación petrolera did not benefit the economy of Mexico. Cárdenas did not consider this a serious threat and minimized efforts to suppress the rebellion, instead choosing persuasion. The US government did not support the rebellion because it was more concerned that fascist and communist movements from Europe would spread to Mexico.\n",
            "The key to the success of the measures taken by Cárdenas was not just to control the opposition, but to develop and train qualified domestic personnel who could keep afloat an industry that had been maintained thus far by foreign management. The government relied on the Sindicato de Trabajadores Petroleros de la República Mexicana (STPRM, or the Union of Oil Workers of the Mexican Republic) to resolve disagreements over the management of oil resources, and deal with threats of strikes and sabotage. In spite of technical challenges, the local workers who replaced the foreign technicians succeeded in making the new nationalized oil industry work. Josephus Daniels, U.S. ambassador to Mexico, explained to President Franklin D. Roosevelt and Secretary of State Cordell Hull that Cárdenas' reforms could not be undone, since his position as president and the position of PEMEX were secure. PEMEX was and remains a source of collective national pride, and is an international symbol of Mexico.\n",
            "Critics of the expropriation argue that since PEMEX took control of the nation's petroleum, it has suffered from corruption in administrations since that of Cárdenas, and point to its political use by PRI (Partido Revolucionario Institucional) and the PAN (Partido Accion Nacional). In addition, the casus belli of the expropriation was a wage hike of 26 million pesos. In fact, in the short run following nationalization, not only was the promised wage hike postponed indefinitely, wages were actually cut. A tug of war continues between capitalist strategists who favor privatization and popular support for PEMEX as a nationalization success and the backbone of Mexico's economic independence from manipulation by foreign owners and investors. In 2013 a series of privatization measures were undertaken by the President Peña Nieto; in 2019 attempts to walk back such measures and regain Mexican national control over PEMEX were begun by the populist left government of Obrador.\n",
            "\n",
            "\n",
            "== See also ==\n",
            "Nationalization of oil supplies\n",
            "Economic nationalism\n",
            "Petroleum industry in Mexico\n",
            "\n",
            "\n",
            "== References ==\n",
            "\n",
            "\n",
            "== Further reading ==\n",
            "Brown, Jonathan C. Oil and Revolution in Mexico. Berkeley: University of California Press 1993.\n",
            "Brown, Jonathan C. and Alan Knight, eds.  The Mexican Petroleum Industry in the Twentieth Century. Austin: University of Texas Press 1992.\n",
            "Gordon, Wendell. The Expropriation of Foreign-Owned Property in Mexico (1941)\n",
            "Hall, Linda B. Oil, Banks, and Politics: the United States and Postrevolutionary Mexico, 1917-1924. Austin: University of Texas Press 1995.\n",
            "Jayne, Catherine E. Oil, war, and Anglo-American relations: American and British reactions to Mexico's expropriation of foreign oil properties, 1937-1941 (Praeger, 2001)\n",
            "Maurer, Noel. \"The empire struck back: sanctions and compensation in the Mexican oil expropriation of 1938.\" Journal of Economic History 71.03 (2011): 590–615. online\n",
            "Meyer, Lorenzo. Mexico and the United States in the oil controversy, 1917–1942 (University of Texas Press, 2014)\n",
            "Rippy, Merrill. Oil and the Mexican Revolution. Leiden: Brill 1972.\n",
            "Wirth, John D., ed. Latin American Oil Companies and the Politics of Energy. Lincoln: University of Nebraska Press 1985.\n"
          ]
        }
      ]
    },
    {
      "cell_type": "markdown",
      "metadata": {
        "id": "V9o2M4-23kIo"
      },
      "source": [
        "## Procesamiento"
      ]
    },
    {
      "cell_type": "markdown",
      "metadata": {
        "id": "cQTst86Zm5Ew"
      },
      "source": [
        "Dividimos el texto en oraciones."
      ]
    },
    {
      "cell_type": "code",
      "metadata": {
        "colab": {
          "base_uri": "https://localhost:8080/"
        },
        "id": "UudewwgC0npT",
        "outputId": "10cbe31f-e670-4548-9ad3-1a9b5fd9d477"
      },
      "source": [
        "sentences = [x for x in sent_tokenize(book)]\n",
        "print(f\"# oraciones: {len(sentences)}\")\n",
        "for sentence in sentences[:3]:\n",
        "    print(sentence)\n",
        "    print()\n",
        "    print(\"...Fin de la oración...\")\n",
        "    print()\n"
      ],
      "execution_count": null,
      "outputs": [
        {
          "output_type": "stream",
          "name": "stdout",
          "text": [
            "# oraciones: 97\n",
            "The Mexican oil expropriation (Spanish: expropiación petrolera) was the nationalization of all petroleum reserves, facilities, and foreign oil companies in Mexico on March 18, 1938.\n",
            "\n",
            "...Fin de la oración...\n",
            "\n",
            "In accordance with Article 27 of the Constitution of 1917, President Lázaro Cárdenas declared that all mineral and oil reserves found within Mexico belong to \"the nation\", i.e., the federal government.\n",
            "\n",
            "...Fin de la oración...\n",
            "\n",
            "The Mexican government established a state-owned petroleum company, Petróleos Mexicanos, or PEMEX.\n",
            "\n",
            "...Fin de la oración...\n",
            "\n"
          ]
        }
      ]
    },
    {
      "cell_type": "code",
      "source": [
        "# Ejemplo lista por comprension\n",
        "lista = []\n",
        "for i in range(9):\n",
        "  lista.append('Hola')\n",
        "\n",
        "print(lista)\n",
        "\n",
        "# Otro modo de crearla\n",
        "otra_lista = ['Hola' for i in range(9)]\n",
        "\n",
        "print(otra_lista)"
      ],
      "metadata": {
        "colab": {
          "base_uri": "https://localhost:8080/"
        },
        "id": "IhjOZlBJ6CoE",
        "outputId": "1107fba1-4ecb-48a8-b7a4-c44a68e8f25b"
      },
      "execution_count": null,
      "outputs": [
        {
          "output_type": "stream",
          "name": "stdout",
          "text": [
            "['Hola', 'Hola', 'Hola', 'Hola', 'Hola', 'Hola', 'Hola', 'Hola', 'Hola']\n",
            "['Hola', 'Hola', 'Hola', 'Hola', 'Hola', 'Hola', 'Hola', 'Hola', 'Hola']\n"
          ]
        }
      ]
    },
    {
      "cell_type": "markdown",
      "metadata": {
        "id": "VX8wBpNYnUV1"
      },
      "source": [
        "convertimos a minúsculas, eliminamos stopwords, eliminamos signos de puntuación y radicalizamos."
      ]
    },
    {
      "cell_type": "code",
      "metadata": {
        "colab": {
          "base_uri": "https://localhost:8080/"
        },
        "id": "HhJPqlaB5fh6",
        "outputId": "2530a311-5a66-47cb-a24b-6647eb58bb25"
      },
      "source": [
        "sent_low = [[stemmer.stem(re.sub('[^a-z]', \"\", word.lower())) for word in word_tokenize(sentence) if word not in cached_stopwords and len(word) > 2] for sentence in sentences]\n",
        "sent_low[0]"
      ],
      "execution_count": null,
      "outputs": [
        {
          "output_type": "execute_result",
          "data": {
            "text/plain": [
              "['the',\n",
              " 'mexican',\n",
              " 'oil',\n",
              " 'expropri',\n",
              " 'spanish',\n",
              " 'expropiacin',\n",
              " 'petrolera',\n",
              " 'nation',\n",
              " 'petroleum',\n",
              " 'reserv',\n",
              " 'facil',\n",
              " 'foreign',\n",
              " 'oil',\n",
              " 'compani',\n",
              " 'mexico',\n",
              " 'march',\n",
              " '']"
            ]
          },
          "metadata": {},
          "execution_count": 489
        }
      ]
    },
    {
      "cell_type": "markdown",
      "metadata": {
        "id": "NuWhLrCHngIg"
      },
      "source": [
        "# TextRank"
      ]
    },
    {
      "cell_type": "markdown",
      "metadata": {
        "id": "7FqpDqoADzub"
      },
      "source": [
        "Construimos la matriz de adyacencias/similitud A entre las oraciones, tomando el número de palabras que están en ambas como la similitud entre las dos oraciones."
      ]
    },
    {
      "cell_type": "code",
      "source": [
        "A = np.zeros((len(sent_low), len(sent_low)))\n",
        "\n",
        "for i in range(len(sentences)):\n",
        "    if i % 100 == 0:\n",
        "        print(i, end=\", \")\n",
        "        if i % 1000 == 0:\n",
        "            print()\n",
        "    for j in range(i+1, len(sentences)):\n",
        "        # La simillitud entre oraciones va a ser el número de palabras que tienen en común\n",
        "        A[i][j] = A[j][i] = len([x for x in sent_low[i] if x in sent_low[j]])"
      ],
      "metadata": {
        "colab": {
          "base_uri": "https://localhost:8080/"
        },
        "id": "S12INj9QZnwZ",
        "outputId": "33bd7206-01b4-4f98-a564-98bfd911fe19"
      },
      "execution_count": null,
      "outputs": [
        {
          "output_type": "stream",
          "name": "stdout",
          "text": [
            "0, \n"
          ]
        }
      ]
    },
    {
      "cell_type": "code",
      "source": [
        "[x for x in sent_low[0] if x in sent_low[1]]"
      ],
      "metadata": {
        "colab": {
          "base_uri": "https://localhost:8080/"
        },
        "id": "Qaz0n9pa2BuG",
        "outputId": "e99bcf61-6b10-484d-d8bb-6a9c2ba83019"
      },
      "execution_count": null,
      "outputs": [
        {
          "output_type": "execute_result",
          "data": {
            "text/plain": [
              "['oil', 'nation', 'reserv', 'oil', 'mexico', '']"
            ]
          },
          "metadata": {},
          "execution_count": 491
        }
      ]
    },
    {
      "cell_type": "markdown",
      "metadata": {
        "id": "p9s5rI9roNPv"
      },
      "source": [
        "Así es como se ve un fragmento de la matriz A."
      ]
    },
    {
      "cell_type": "code",
      "metadata": {
        "colab": {
          "base_uri": "https://localhost:8080/"
        },
        "id": "uvFYbKI48tdr",
        "outputId": "d3532001-66fd-45d9-ef46-fa858bbefbe3"
      },
      "source": [
        "A[:5, :5]"
      ],
      "execution_count": null,
      "outputs": [
        {
          "output_type": "execute_result",
          "data": {
            "text/plain": [
              "array([[0., 6., 4., 3., 3.],\n",
              "       [6., 0., 1., 1., 0.],\n",
              "       [4., 1., 0., 2., 2.],\n",
              "       [3., 1., 2., 0., 1.],\n",
              "       [3., 0., 2., 1., 0.]])"
            ]
          },
          "metadata": {},
          "execution_count": 492
        }
      ]
    },
    {
      "cell_type": "markdown",
      "metadata": {
        "id": "OoJlPw_ToUdh"
      },
      "source": [
        "Normalizamos las columnas de A"
      ]
    },
    {
      "cell_type": "code",
      "source": [
        "# Comparamos las oraciones unas con otras, pero no consigo mismas\n",
        "suma = np.sum(A, axis=0)\n",
        "A_norm = A.copy()\n",
        "suma = np.sum(A, axis=0)\n",
        "for i in range(len(sentences)):\n",
        "  if suma[i] != 0:\n",
        "    A_norm[i,:] = A[i,:]/suma[i]\n",
        "A_norm[:5, :5]"
      ],
      "metadata": {
        "colab": {
          "base_uri": "https://localhost:8080/"
        },
        "id": "2GvyVdD-cErU",
        "outputId": "15c0e457-552f-4c8f-9b4a-9cafd31f7ef7"
      },
      "execution_count": null,
      "outputs": [
        {
          "output_type": "execute_result",
          "data": {
            "text/plain": [
              "array([[0.        , 0.0244898 , 0.01632653, 0.0122449 , 0.0122449 ],\n",
              "       [0.04225352, 0.        , 0.00704225, 0.00704225, 0.        ],\n",
              "       [0.03669725, 0.00917431, 0.        , 0.01834862, 0.01834862],\n",
              "       [0.02654867, 0.00884956, 0.01769912, 0.        , 0.00884956],\n",
              "       [0.06521739, 0.        , 0.04347826, 0.02173913, 0.        ]])"
            ]
          },
          "metadata": {},
          "execution_count": 533
        }
      ]
    },
    {
      "cell_type": "code",
      "source": [
        "A_norm[0,:].sum()"
      ],
      "metadata": {
        "colab": {
          "base_uri": "https://localhost:8080/"
        },
        "id": "6kJddZjNqgSp",
        "outputId": "7ba7f85c-d304-4864-bbe5-62785096e9e6"
      },
      "execution_count": null,
      "outputs": [
        {
          "output_type": "execute_result",
          "data": {
            "text/plain": [
              "1.0"
            ]
          },
          "metadata": {},
          "execution_count": 537
        }
      ]
    },
    {
      "cell_type": "markdown",
      "metadata": {
        "id": "YIdFEIv2KlDT"
      },
      "source": [
        "Se crea el vector de TextRank con unos y se itera hasta que converja. Es decir, hasta que obtengamos $\\Pi$ tal que $$\\Pi = A~\\Pi$$"
      ]
    },
    {
      "cell_type": "code",
      "source": [
        "# Impresiones mas bonitas\n",
        "np.set_printoptions(suppress=True)"
      ],
      "metadata": {
        "id": "wSg8un2uxyz3"
      },
      "execution_count": null,
      "outputs": []
    },
    {
      "cell_type": "code",
      "metadata": {
        "colab": {
          "base_uri": "https://localhost:8080/"
        },
        "id": "LUfmpayQKaCA",
        "outputId": "17770e5c-602a-4d79-ea03-1ac5c03581e7"
      },
      "source": [
        "# Tolerancia para la diferencia al comparar\n",
        "tol = 1e-7\n",
        "\n",
        "PI_ = np.ones(A_norm.shape[1])\n",
        "A_norm_a = A_norm.T.copy()\n",
        "\n",
        "i = 0\n",
        "while True:\n",
        "    pi_ = A_norm_a @ PI_\n",
        "    print(i, abs(PI_- pi_).sum())\n",
        "    if np.allclose(PI_, pi_, tol):\n",
        "        break\n",
        "    i += 1\n",
        "    PI_ = pi_"
      ],
      "execution_count": null,
      "outputs": [
        {
          "output_type": "stream",
          "name": "stdout",
          "text": [
            "0 47.841945948307036\n",
            "1 10.423210816947975\n",
            "2 1.6267680404269091\n",
            "3 0.47305104375913454\n",
            "4 0.1697209666478503\n",
            "5 0.07167945054092646\n",
            "6 0.03236976952734723\n",
            "7 0.015096674774192107\n",
            "8 0.007051656689697528\n",
            "9 0.003309432357099292\n",
            "10 0.0015530052346448588\n",
            "11 0.0007284412298238906\n",
            "12 0.00034149263573162933\n",
            "13 0.0001600269319367159\n",
            "14 7.496401704629001e-05\n",
            "15 3.510705932405385e-05\n",
            "16 1.643770696345935e-05\n",
            "17 7.695100166790064e-06\n",
            "18 3.6018838120589064e-06\n",
            "19 1.6857787140337616e-06\n"
          ]
        }
      ]
    },
    {
      "cell_type": "code",
      "source": [
        "pi_"
      ],
      "metadata": {
        "colab": {
          "base_uri": "https://localhost:8080/"
        },
        "id": "049iSn9I_Lid",
        "outputId": "0d47371c-d78f-4dd2-c0a7-9f66ff075d17"
      },
      "execution_count": null,
      "outputs": [
        {
          "output_type": "execute_result",
          "data": {
            "text/plain": [
              "array([2.60284811, 1.50858953, 1.1580018 , 1.20049729, 0.48869801,\n",
              "       1.98666363, 2.7622061 , 0.15935804, 0.64805605, 0.70117538,\n",
              "       0.91365278, 1.01989148, 1.56170883, 0.92427665, 1.33860758,\n",
              "       1.33860758, 1.51921338, 1.76356239, 0.37183546, 0.3505877 ,\n",
              "       0.71179925, 1.45547013, 1.73169076, 1.15800178, 1.77418626,\n",
              "       0.67992765, 0.77554247, 0.59493672, 0.89240507, 1.25361661,\n",
              "       1.31735984, 0.94552439, 0.29746835, 1.01989148, 0.67992765,\n",
              "       1.25361665, 1.13675407, 1.48734172, 0.43557864, 1.52983722,\n",
              "       0.55244121, 1.8910488 , 1.16862567, 1.31735984, 0.03187161,\n",
              "       0.38245931, 1.59358048, 2.76220618, 0.10623869, 0.65867995,\n",
              "       0.99864376, 0.01062387, 0.01062387, 1.50858954, 0.13811031,\n",
              "       2.12477399, 1.16862569, 1.5829566 , 0.55244123, 1.41297468,\n",
              "       1.28548827, 1.85917725, 1.46609404, 0.77554252, 0.25497288,\n",
              "       0.8817812 , 0.20185353, 0.73304702, 0.74367089, 1.62545207,\n",
              "       0.91365281, 0.93490056, 0.52056963, 0.72242315, 0.33996383,\n",
              "       0.20185353, 0.73304703, 1.26424054, 1.21112118, 0.45682643,\n",
              "       0.02124774, 0.65867992, 0.48869804, 0.        , 0.97739604,\n",
              "       1.25361667, 0.48869804, 1.54046116, 1.46609405, 0.45682642,\n",
              "       0.        , 1.41297473, 0.75429476, 0.40370707, 0.        ,\n",
              "       1.03051537, 0.49932191])"
            ]
          },
          "metadata": {},
          "execution_count": 497
        }
      ]
    },
    {
      "cell_type": "markdown",
      "metadata": {
        "id": "QnTTffzbv2G0"
      },
      "source": [
        "Alternativamente, podemos obtener los eigenvectores izquierdos de nuestra matriz A_norm. Los valores de PageRank corresponden al vector de probabilidades del estado estacionario de la matriz A que a su vez es el eigenvector izquierdo con eigenvalor asociado 1.\n",
        "\n",
        "$$\\Pi = \\Pi A$$"
      ]
    },
    {
      "cell_type": "code",
      "metadata": {
        "id": "2fjuQ_v_vE-O"
      },
      "source": [
        "D, vecs = splinalg.eig(A_norm, left=True, right=False)"
      ],
      "execution_count": null,
      "outputs": []
    },
    {
      "cell_type": "code",
      "source": [
        "D"
      ],
      "metadata": {
        "colab": {
          "base_uri": "https://localhost:8080/"
        },
        "id": "JQGky-yU_jNr",
        "outputId": "8daec8c0-260a-455a-8489-1881020a6195"
      },
      "execution_count": null,
      "outputs": [
        {
          "output_type": "execute_result",
          "data": {
            "text/plain": [
              "array([ 1.        +0.j,  0.46786796+0.j,  0.35654311+0.j,  0.28575201+0.j,\n",
              "        0.22966652+0.j,  0.1989689 +0.j,  0.17567107+0.j,  0.1713006 +0.j,\n",
              "        0.15091118+0.j,  0.12943372+0.j,  0.12343474+0.j,  0.11488601+0.j,\n",
              "       -0.18573025+0.j, -0.15428929+0.j,  0.09142279+0.j,  0.09007774+0.j,\n",
              "        0.07700577+0.j,  0.07151512+0.j,  0.06683931+0.j,  0.06119591+0.j,\n",
              "        0.05261238+0.j,  0.05151214+0.j, -0.13172345+0.j, -0.12847411+0.j,\n",
              "        0.04863509+0.j, -0.1237895 +0.j, -0.12109938+0.j,  0.03836986+0.j,\n",
              "        0.03216803+0.j, -0.11632875+0.j, -0.11474151+0.j,  0.02365264+0.j,\n",
              "       -0.11005911+0.j, -0.11136241+0.j,  0.01968514+0.j, -0.10309623+0.j,\n",
              "        0.01628221+0.j, -0.10000285+0.j, -0.09827466+0.j, -0.09419776+0.j,\n",
              "        0.01198295+0.j,  0.01113738+0.j,  0.00870103+0.j, -0.09216607+0.j,\n",
              "       -0.10869565+0.j, -0.08917937+0.j, -0.08512432+0.j,  0.00200263+0.j,\n",
              "       -0.00434442+0.j, -0.00253741+0.j, -0.00811984+0.j, -0.00980335+0.j,\n",
              "       -0.01224474+0.j, -0.08355111+0.j, -0.08236671+0.j, -0.01644655+0.j,\n",
              "       -0.08189309+0.j, -0.07899508+0.j, -0.02038538+0.j, -0.02164121+0.j,\n",
              "        0.        +0.j, -0.02361151+0.j, -0.07631677+0.j, -0.07561978+0.j,\n",
              "       -0.02741331+0.j, -0.02841538+0.j, -0.02942881+0.j, -0.07187905+0.j,\n",
              "       -0.07145031+0.j, -0.03221454+0.j, -0.07030481+0.j, -0.03307007+0.j,\n",
              "       -0.06945649+0.j, -0.06778094+0.j, -0.03436727+0.j, -0.03645473+0.j,\n",
              "       -0.06494614+0.j, -0.04006042+0.j, -0.06267083+0.j, -0.04107635+0.j,\n",
              "       -0.05874039+0.j, -0.06111308+0.j, -0.04372802+0.j, -0.05714869+0.j,\n",
              "       -0.04532576+0.j, -0.04731869+0.j, -0.04267027+0.j, -0.04942706+0.j,\n",
              "       -0.04859639+0.j, -0.06153723+0.j, -0.05483088+0.j, -0.0551699 +0.j,\n",
              "       -0.05102205+0.j, -0.05540445+0.j,  0.        +0.j,  0.        +0.j,\n",
              "        0.        +0.j])"
            ]
          },
          "metadata": {},
          "execution_count": 499
        }
      ]
    },
    {
      "cell_type": "code",
      "source": [
        "vecs.shape"
      ],
      "metadata": {
        "colab": {
          "base_uri": "https://localhost:8080/"
        },
        "id": "quf7Tyn7-yK_",
        "outputId": "9c437273-74fc-4444-b9d9-1f328934a4c6"
      },
      "execution_count": null,
      "outputs": [
        {
          "output_type": "execute_result",
          "data": {
            "text/plain": [
              "(97, 97)"
            ]
          },
          "metadata": {},
          "execution_count": 500
        }
      ]
    },
    {
      "cell_type": "code",
      "source": [
        "vecs"
      ],
      "metadata": {
        "colab": {
          "base_uri": "https://localhost:8080/"
        },
        "id": "OTRv8mVf_D5R",
        "outputId": "bfe35a84-ea6b-4aa1-da06-b296b2039dd5"
      },
      "execution_count": null,
      "outputs": [
        {
          "output_type": "execute_result",
          "data": {
            "text/plain": [
              "array([[ 0.23040363,  0.0631518 ,  0.1197814 , ...,  0.        ,\n",
              "         0.        ,  0.        ],\n",
              "       [ 0.13354006,  0.12178215,  0.04340418, ...,  0.        ,\n",
              "         0.        ,  0.        ],\n",
              "       [ 0.1025061 , -0.05603217,  0.0668489 , ...,  0.        ,\n",
              "         0.        ,  0.        ],\n",
              "       ...,\n",
              "       [ 0.        ,  0.        ,  0.        , ...,  0.        ,\n",
              "         0.        ,  1.        ],\n",
              "       [ 0.09122103, -0.0270364 ,  0.09135856, ...,  0.        ,\n",
              "         0.        ,  0.        ],\n",
              "       [ 0.04419988,  0.14596026, -0.19929998, ...,  0.        ,\n",
              "         0.        ,  0.        ]])"
            ]
          },
          "metadata": {},
          "execution_count": 501
        }
      ]
    },
    {
      "cell_type": "code",
      "metadata": {
        "id": "Qn60EkbGzARy",
        "colab": {
          "base_uri": "https://localhost:8080/"
        },
        "outputId": "82c9bea0-12fd-4a49-94b9-4375622151ab"
      },
      "source": [
        "pi2_ = vecs[:, 0]\n",
        "pi2_"
      ],
      "execution_count": null,
      "outputs": [
        {
          "output_type": "execute_result",
          "data": {
            "text/plain": [
              "array([0.23040363, 0.13354006, 0.1025061 , 0.1062678 , 0.04325946,\n",
              "       0.1758591 , 0.24450997, 0.01410634, 0.0573658 , 0.06206792,\n",
              "       0.08087638, 0.09028061, 0.13824218, 0.0818168 , 0.1184933 ,\n",
              "       0.1184933 , 0.13448049, 0.15611021, 0.0329148 , 0.03103396,\n",
              "       0.06300834, 0.12883795, 0.15328895, 0.1025061 , 0.15705064,\n",
              "       0.06018707, 0.06865088, 0.05266369, 0.07899553, 0.11096991,\n",
              "       0.11661245, 0.08369764, 0.02633184, 0.09028061, 0.06018707,\n",
              "       0.11096991, 0.10062526, 0.13165922, 0.03855734, 0.13542091,\n",
              "       0.04890199, 0.16739529, 0.10344653, 0.11661245, 0.00282127,\n",
              "       0.03385523, 0.14106345, 0.24450997, 0.00940423, 0.05830622,\n",
              "       0.08839976, 0.00094042, 0.00094042, 0.13354006, 0.0122255 ,\n",
              "       0.1880846 , 0.10344653, 0.14012302, 0.04890199, 0.12507626,\n",
              "       0.11379118, 0.16457402, 0.12977837, 0.06865088, 0.02257015,\n",
              "       0.07805511, 0.01786804, 0.06488919, 0.06582961, 0.14388472,\n",
              "       0.08087638, 0.08275722, 0.04608073, 0.06394876, 0.03009354,\n",
              "       0.01786804, 0.06488919, 0.11191033, 0.10720822, 0.04043819,\n",
              "       0.00188085, 0.05830622, 0.04325946, 0.        , 0.08651891,\n",
              "       0.11096991, 0.04325946, 0.13636133, 0.12977837, 0.04043819,\n",
              "       0.        , 0.12507626, 0.06677003, 0.03573607, 0.        ,\n",
              "       0.09122103, 0.04419988])"
            ]
          },
          "metadata": {},
          "execution_count": 502
        }
      ]
    },
    {
      "cell_type": "markdown",
      "metadata": {
        "id": "Y4XCjrheqzkz"
      },
      "source": [
        "Obtenemos los índices de los k valores más grandes en $\\Pi$ y los usamos para obtener las oraciones más relevantes."
      ]
    },
    {
      "cell_type": "code",
      "metadata": {
        "id": "4nzzWurm0_O2",
        "colab": {
          "base_uri": "https://localhost:8080/"
        },
        "outputId": "9ff68eed-ba98-42f3-ca1d-ae937f8b01a3"
      },
      "source": [
        "k = 4\n",
        "pi_.argsort()[-k:][::-1]"
      ],
      "execution_count": null,
      "outputs": [
        {
          "output_type": "execute_result",
          "data": {
            "text/plain": [
              "array([47,  6,  0, 55])"
            ]
          },
          "metadata": {},
          "execution_count": 503
        }
      ]
    },
    {
      "cell_type": "code",
      "source": [
        "k = 4\n",
        "pi2_.argsort()[-k:][::-1]"
      ],
      "metadata": {
        "colab": {
          "base_uri": "https://localhost:8080/"
        },
        "id": "66EFi5uomLdt",
        "outputId": "76dab1ff-f227-4d32-ba73-0921ee5bfc2b"
      },
      "execution_count": null,
      "outputs": [
        {
          "output_type": "execute_result",
          "data": {
            "text/plain": [
              "array([47,  6,  0, 55])"
            ]
          },
          "metadata": {},
          "execution_count": 504
        }
      ]
    },
    {
      "cell_type": "code",
      "metadata": {
        "id": "RryDhNr5OfJ5"
      },
      "source": [
        "summary = [sentences[idx] for idx in pi_.argsort()[-k:][::-1]]"
      ],
      "execution_count": null,
      "outputs": []
    },
    {
      "cell_type": "code",
      "source": [
        "summary"
      ],
      "metadata": {
        "colab": {
          "base_uri": "https://localhost:8080/"
        },
        "id": "iACleNaJDRHu",
        "outputId": "b416dd60-ee94-43ff-cc20-b1825a93ed68"
      },
      "execution_count": null,
      "outputs": [
        {
          "output_type": "execute_result",
          "data": {
            "text/plain": [
              "['== Oil Expropriation Day, March 18, 1938 ==\\nOn March 18, 1938 President Cárdenas embarked on the expropriation of all oil resources and facilities by the state, nationalizing the U.S. and Anglo-Dutch (Mexican Eagle Petroleum Company) operating companies.',\n",
              " 'The foreign oil companies refused to sign the agreement, and counter offered with a payment of 14 million pesos toward wages and benefits.On November 3, 1937, the union demanded that the companies sign the collective agreement and on May 17, the union summoned a strike in case their demands were not met.',\n",
              " 'The Mexican oil expropriation (Spanish: expropiación petrolera) was the nationalization of all petroleum reserves, facilities, and foreign oil companies in Mexico on March 18, 1938.',\n",
              " '== Opposition ==\\n\\n\\n=== International ===\\nIn retaliation, the oil companies initiated a public relations campaign against Mexico, urging people to stop buying Mexican goods and lobbying to embargo U.S. technology to Mexico.']"
            ]
          },
          "metadata": {},
          "execution_count": 506
        }
      ]
    },
    {
      "cell_type": "markdown",
      "metadata": {
        "id": "DpekkaIIrFbJ"
      },
      "source": [
        "Por último, sólo queda ver qué considero TextRank como las oraciones más importantes."
      ]
    },
    {
      "cell_type": "code",
      "metadata": {
        "colab": {
          "base_uri": "https://localhost:8080/"
        },
        "id": "wAqh4QdWOh1r",
        "outputId": "0be78ff2-2526-4d20-eda0-61104ffd4f19"
      },
      "source": [
        "for bullet in summary:\n",
        "    print('___________')\n",
        "    print(bullet)"
      ],
      "execution_count": null,
      "outputs": [
        {
          "output_type": "stream",
          "name": "stdout",
          "text": [
            "___________\n",
            "== Oil Expropriation Day, March 18, 1938 ==\n",
            "On March 18, 1938 President Cárdenas embarked on the expropriation of all oil resources and facilities by the state, nationalizing the U.S. and Anglo-Dutch (Mexican Eagle Petroleum Company) operating companies.\n",
            "___________\n",
            "The foreign oil companies refused to sign the agreement, and counter offered with a payment of 14 million pesos toward wages and benefits.On November 3, 1937, the union demanded that the companies sign the collective agreement and on May 17, the union summoned a strike in case their demands were not met.\n",
            "___________\n",
            "The Mexican oil expropriation (Spanish: expropiación petrolera) was the nationalization of all petroleum reserves, facilities, and foreign oil companies in Mexico on March 18, 1938.\n",
            "___________\n",
            "== Opposition ==\n",
            "\n",
            "\n",
            "=== International ===\n",
            "In retaliation, the oil companies initiated a public relations campaign against Mexico, urging people to stop buying Mexican goods and lobbying to embargo U.S. technology to Mexico.\n"
          ]
        }
      ]
    },
    {
      "cell_type": "markdown",
      "metadata": {
        "id": "xN21ZGHrrKY4"
      },
      "source": [
        "Podemos traducir la salida."
      ]
    },
    {
      "cell_type": "code",
      "source": [
        "!pip install sacremoses"
      ],
      "metadata": {
        "colab": {
          "base_uri": "https://localhost:8080/"
        },
        "id": "h8R-ruMABp37",
        "outputId": "710fe52d-da52-400e-9b18-73a5a4f3fd6a"
      },
      "execution_count": null,
      "outputs": [
        {
          "output_type": "stream",
          "name": "stdout",
          "text": [
            "Looking in indexes: https://pypi.org/simple, https://us-python.pkg.dev/colab-wheels/public/simple/\n",
            "Requirement already satisfied: sacremoses in /usr/local/lib/python3.10/dist-packages (0.0.53)\n",
            "Requirement already satisfied: tqdm in /usr/local/lib/python3.10/dist-packages (from sacremoses) (4.65.0)\n",
            "Requirement already satisfied: six in /usr/local/lib/python3.10/dist-packages (from sacremoses) (1.16.0)\n",
            "Requirement already satisfied: click in /usr/local/lib/python3.10/dist-packages (from sacremoses) (8.1.3)\n",
            "Requirement already satisfied: regex in /usr/local/lib/python3.10/dist-packages (from sacremoses) (2022.10.31)\n",
            "Requirement already satisfied: joblib in /usr/local/lib/python3.10/dist-packages (from sacremoses) (1.2.0)\n"
          ]
        }
      ]
    },
    {
      "cell_type": "code",
      "metadata": {
        "colab": {
          "base_uri": "https://localhost:8080/"
        },
        "id": "7vpw3FScPo2L",
        "outputId": "488fecf6-b7ac-48a2-d1aa-54da02bb3e16"
      },
      "source": [
        "# Aprox 34 seg las primeras 10 oraciones\n",
        "for bullet in summary:\n",
        "    print()\n",
        "    print(translate(bullet, \"es\"))"
      ],
      "execution_count": null,
      "outputs": [
        {
          "output_type": "stream",
          "name": "stdout",
          "text": [
            "\n",
            "== Día de Expropiación de Petróleo, 18 de marzo de 1938 ==El 18 de marzo de 1938 el presidente Cárdenas se embarcó en la expropiación de todos los recursos e instalaciones petroleras por el estado, nacionalizando las compañías operadoras estadounidenses y angloholandesas (Mexican Eagle Petroleum Company).\n",
            "\n",
            "El 3 de noviembre de 1937, el sindicato exigió a las empresas que firmaran el convenio colectivo y el 17 de mayo, el sindicato convocó una huelga en caso de que no se cumplieran sus demandas.\n",
            "\n",
            "La expropiación petrolera mexicana fue la nacionalización de todas las reservas de petróleo, instalaciones y compañías petroleras extranjeras en México el 18 de marzo de 1938.\n",
            "\n",
            "== Oposición ===== Internacional ===En represalia, las compañías petroleras iniciaron una campaña de relaciones públicas contra México, instando a la gente a dejar de comprar bienes mexicanos y a presionar para que la tecnología estadounidense sea objeto de embargo a México.\n"
          ]
        }
      ]
    },
    {
      "cell_type": "markdown",
      "metadata": {
        "id": "sroGaAJSrNER"
      },
      "source": [
        "# Función para crear resúmenes"
      ]
    },
    {
      "cell_type": "markdown",
      "metadata": {
        "id": "o8TBd5q7rSmS"
      },
      "source": [
        "Podemos condensar todo lo anterior en una función que reciba texto y nos regrese las oraciones más relevantes de acuerdo a TextRank."
      ]
    },
    {
      "cell_type": "code",
      "metadata": {
        "id": "ACFufGGmXwCP"
      },
      "source": [
        "def summary(text, k, to_spanish = True, tol = 1e-5, d = .15, eig = False):\n",
        "    print(\"Paso 1. Obteniendo oraciones\")\n",
        "    sentences = [x for x in sent_tokenize(text)]\n",
        "\n",
        "    print(f\"# oraciones: {len(sentences)}\")\n",
        "\n",
        "    print(\"Paso 2. Procesando texto\")\n",
        "    sent_low = [[stemmer.stem(re.sub('[^a-z]', \"\", word.lower())) for word in word_tokenize(sentence) if word not in cached_stopwords and len(word) > 2] for sentence in sentences]\n",
        "\n",
        "    print(\"Paso 3. Creando matriz de similitud\")\n",
        "    A = np.zeros((len(sent_low), len(sent_low)))\n",
        "\n",
        "    for i in range(len(sentences)):\n",
        "        for j in range(i+1, len(sentences)):\n",
        "            # La simillitud entre oraciones va a ser el número de palabras que tienen en común\n",
        "            A[i][j] = A[j][i] = len([x for x in sent_low[i] if x in sent_low[j]])\n",
        "\n",
        "    print(\"Paso 4. Normalizando matriz de similitud\")\n",
        "    suma = np.sum(A, axis=0)\n",
        "    A_norm = A.copy()\n",
        "    suma = np.sum(A, axis=0)\n",
        "    for i in range(len(sentences)):\n",
        "      if suma[i] != 0:\n",
        "        A_norm[i,:] = A[i,:]/suma[i]\n",
        "\n",
        "    print(\"Paso 5. Ejecutando TextRank\")\n",
        "    if eig:\n",
        "        vals, vecs = splinalg.eig(A_norm, left=True, right=False)\n",
        "        pi_ = vecs[:, 0]\n",
        "    else:\n",
        "        A_norm_a = A_norm.T.copy()\n",
        "        PI_ = np.ones(A_norm.shape[1])\n",
        "\n",
        "        while True:\n",
        "            pi_ = A_norm_a.dot(PI_)\n",
        "            if np.allclose(PI_, pi_, tol):\n",
        "                break\n",
        "            PI_ = pi_\n",
        "\n",
        "    print(\"\\tPaso 5. Terminado\")\n",
        "\n",
        "    if not to_spanish:\n",
        "        return [sentences[idx] for idx in pi_.argsort()[-k:][::-1]]\n",
        "\n",
        "    print(\"Paso 6. Traduciendo\")\n",
        "    return [translate(sentences[idx], \"es\") for idx in pi_.argsort()[-k:][::-1]]\n",
        "\n",
        "def print_bullet_points(bullet_points):\n",
        "    for point in bullet_points:\n",
        "        print(f\"- {point}\\n\")\n"
      ],
      "execution_count": null,
      "outputs": []
    },
    {
      "cell_type": "code",
      "metadata": {
        "colab": {
          "base_uri": "https://localhost:8080/"
        },
        "id": "ShmZc9RaYuh3",
        "outputId": "bef53e40-8e0a-431b-9df3-2fc0f792d4e0"
      },
      "source": [
        "wiki = wikipedia.page('Automatic summarization')\n",
        "text = wiki.content\n",
        "bullet_points = summary(text, 5, False, eig = True)"
      ],
      "execution_count": null,
      "outputs": [
        {
          "output_type": "stream",
          "name": "stdout",
          "text": [
            "Paso 1. Obteniendo oraciones\n",
            "# oraciones: 317\n",
            "Paso 2. Procesando texto\n",
            "Paso 3. Creando matriz de similitud\n",
            "Paso 4. Normalizando matriz de similitud\n",
            "Paso 5. Ejecutando TextRank\n",
            "\tPaso 5. Terminado\n"
          ]
        }
      ]
    },
    {
      "cell_type": "code",
      "metadata": {
        "colab": {
          "base_uri": "https://localhost:8080/"
        },
        "id": "14--hdHdZNkW",
        "outputId": "6e8640e6-0e25-49fb-dcaa-3a60f4d59936"
      },
      "source": [
        "print_bullet_points(bullet_points)"
      ],
      "execution_count": null,
      "outputs": [
        {
          "output_type": "stream",
          "name": "stdout",
          "text": [
            "- ==== Maximum entropy-based summarization ====\n",
            "During the DUC 2001 and 2002 evaluation workshops, TNO developed a sentence extraction system for multi-document summarization in the news domain.\n",
            "\n",
            "- === Document summarization ===\n",
            "Like keyphrase extraction, document summarization aims to identify the essence of a text.\n",
            "\n",
            "- The main difficulty in supervised extractive summarization is that the known summaries must be manually created by extracting sentences so the sentences in an original training document can be labeled as \"in summary\" or \"not in summary\".\n",
            "\n",
            "- ==== TextRank and LexRank ====\n",
            "The unsupervised approach to summarization is also quite similar in spirit to unsupervised keyphrase extraction and gets around the issue of costly training data.\n",
            "\n",
            "- Similar results were achieved with the use of determinantal point processes (which are a special case of submodular functions) for DUC-04.A new method for multi-lingual multi-document summarization that avoids redundancy generates ideograms to represent the meaning of each sentence in each document, then evaluates similarity by comparing ideogram shape and position.\n",
            "\n"
          ]
        }
      ]
    },
    {
      "cell_type": "code",
      "metadata": {
        "colab": {
          "base_uri": "https://localhost:8080/"
        },
        "id": "z6PnPJkMZ_E9",
        "outputId": "01a925f4-1ac0-4ef5-e702-30040a76689a"
      },
      "source": [
        "!wget https://www.gutenberg.org/files/84/84-0.txt -O book.txt"
      ],
      "execution_count": null,
      "outputs": [
        {
          "output_type": "stream",
          "name": "stdout",
          "text": [
            "--2023-04-28 21:25:29--  https://www.gutenberg.org/files/84/84-0.txt\n",
            "Resolving www.gutenberg.org (www.gutenberg.org)... 152.19.134.47, 2610:28:3090:3000:0:bad:cafe:47\n",
            "Connecting to www.gutenberg.org (www.gutenberg.org)|152.19.134.47|:443... connected.\n",
            "HTTP request sent, awaiting response... 200 OK\n",
            "Length: 448642 (438K) [text/plain]\n",
            "Saving to: ‘book.txt’\n",
            "\n",
            "book.txt            100%[===================>] 438.13K   875KB/s    in 0.5s    \n",
            "\n",
            "2023-04-28 21:25:31 (875 KB/s) - ‘book.txt’ saved [448642/448642]\n",
            "\n"
          ]
        }
      ]
    },
    {
      "cell_type": "code",
      "metadata": {
        "colab": {
          "base_uri": "https://localhost:8080/"
        },
        "id": "meluoUwsaDSK",
        "outputId": "48213a05-b23a-43e6-8c7c-713351925f67"
      },
      "source": [
        "with open(\"book.txt\") as f:\n",
        "    book_raw = f.read()\n",
        "\n",
        "print(book_raw[0:1000])"
      ],
      "execution_count": null,
      "outputs": [
        {
          "output_type": "stream",
          "name": "stdout",
          "text": [
            "﻿The Project Gutenberg eBook of Frankenstein, by Mary Wollstonecraft Shelley\n",
            "\n",
            "This eBook is for the use of anyone anywhere in the United States and\n",
            "most other parts of the world at no cost and with almost no restrictions\n",
            "whatsoever. You may copy it, give it away or re-use it under the terms\n",
            "of the Project Gutenberg License included with this eBook or online at\n",
            "www.gutenberg.org. If you are not located in the United States, you\n",
            "will have to check the laws of the country where you are located before\n",
            "using this eBook.\n",
            "\n",
            "Title: Frankenstein\n",
            "       or, The Modern Prometheus\n",
            "\n",
            "Author: Mary Wollstonecraft Shelley\n",
            "\n",
            "Release Date: October 31, 1993 [eBook #84]\n",
            "[Most recently updated: December 2, 2022]\n",
            "\n",
            "Language: English\n",
            "\n",
            "Character set encoding: UTF-8\n",
            "\n",
            "Produced by: Judith Boss, Christy Phillips, Lynn Hanninen and David Meltzer. HTML version by Al Haines.\n",
            "Further corrections by Menno de Leeuw.\n",
            "\n",
            "*** START OF THE PROJECT GUTENBERG EBOOK FRANKENSTEIN ***\n",
            "\n",
            "\n",
            "\n",
            "\n",
            "Frankenstein;\n",
            "\n",
            "or, the Modern Prometheus\n",
            "\n",
            "by \n"
          ]
        }
      ]
    },
    {
      "cell_type": "code",
      "source": [
        "start = book_raw.rfind(\"Chapter 1\\n\")\n",
        "end = book_raw.rfind('Chapter 2\\n')"
      ],
      "metadata": {
        "id": "DymBfakBWb9G"
      },
      "execution_count": null,
      "outputs": []
    },
    {
      "cell_type": "code",
      "source": [
        "chapter_n = book_raw[start + len(\"Chapter 5\\n\"): end]"
      ],
      "metadata": {
        "id": "hGk5g4H6Xo8l"
      },
      "execution_count": null,
      "outputs": []
    },
    {
      "cell_type": "code",
      "source": [
        "chapter_n"
      ],
      "metadata": {
        "colab": {
          "base_uri": "https://localhost:8080/",
          "height": 139
        },
        "id": "-UWfUSwEGagL",
        "outputId": "5b4c79bc-b9b2-4464-9924-355c7afba1fb"
      },
      "execution_count": null,
      "outputs": [
        {
          "output_type": "execute_result",
          "data": {
            "text/plain": [
              "'\\n\\nI am by birth a Genevese, and my family is one of the most\\ndistinguished of that republic. My ancestors had been for many years\\ncounsellors and syndics, and my father had filled several public\\nsituations with honour and reputation. He was respected by all who\\nknew him for his integrity and indefatigable attention to public\\nbusiness. He passed his younger days perpetually occupied by the\\naffairs of his country; a variety of circumstances had prevented his\\nmarrying early, nor was it until the decline of life that he became a\\nhusband and the father of a family.\\n\\nAs the circumstances of his marriage illustrate his character, I cannot\\nrefrain from relating them. One of his most intimate friends was a\\nmerchant who, from a flourishing state, fell, through numerous\\nmischances, into poverty. This man, whose name was Beaufort, was of a\\nproud and unbending disposition and could not bear to live in poverty\\nand oblivion in the same country where he had formerly been\\ndistinguished for his rank and magnificence. Having paid his debts,\\ntherefore, in the most honourable manner, he retreated with his\\ndaughter to the town of Lucerne, where he lived unknown and in\\nwretchedness. My father loved Beaufort with the truest friendship and\\nwas deeply grieved by his retreat in these unfortunate circumstances.\\nHe bitterly deplored the false pride which led his friend to a conduct\\nso little worthy of the affection that united them. He lost no time in\\nendeavouring to seek him out, with the hope of persuading him to begin\\nthe world again through his credit and assistance.\\n\\nBeaufort had taken effectual measures to conceal himself, and it was ten\\nmonths before my father discovered his abode. Overjoyed at this discovery,\\nhe hastened to the house, which was situated in a mean street near the\\nReuss. But when he entered, misery and despair alone welcomed him. Beaufort\\nhad saved but a very small sum of money from the wreck of his fortunes, but\\nit was sufficient to provide him with sustenance for some months, and in\\nthe meantime he hoped to procure some respectable employment in a\\nmerchant’s house. The interval was, consequently, spent in inaction;\\nhis grief only became more deep and rankling when he had leisure for\\nreflection, and at length it took so fast hold of his mind that at the end\\nof three months he lay on a bed of sickness, incapable of any exertion.\\n\\nHis daughter attended him with the greatest tenderness, but she saw\\nwith despair that their little fund was rapidly decreasing and that\\nthere was no other prospect of support. But Caroline Beaufort\\npossessed a mind of an uncommon mould, and her courage rose to support\\nher in her adversity. She procured plain work; she plaited straw and\\nby various means contrived to earn a pittance scarcely sufficient to\\nsupport life.\\n\\nSeveral months passed in this manner. Her father grew worse; her time\\nwas more entirely occupied in attending him; her means of subsistence\\ndecreased; and in the tenth month her father died in her arms, leaving\\nher an orphan and a beggar. This last blow overcame her, and she knelt\\nby Beaufort’s coffin weeping bitterly, when my father entered the\\nchamber. He came like a protecting spirit to the poor girl, who\\ncommitted herself to his care; and after the interment of his friend he\\nconducted her to Geneva and placed her under the protection of a\\nrelation. Two years after this event Caroline became his wife.\\n\\nThere was a considerable difference between the ages of my parents, but\\nthis circumstance seemed to unite them only closer in bonds of devoted\\naffection. There was a sense of justice in my father’s upright mind\\nwhich rendered it necessary that he should approve highly to love\\nstrongly. Perhaps during former years he had suffered from the\\nlate-discovered unworthiness of one beloved and so was disposed to set\\na greater value on tried worth. There was a show of gratitude and\\nworship in his attachment to my mother, differing wholly from the\\ndoting fondness of age, for it was inspired by reverence for her\\nvirtues and a desire to be the means of, in some degree, recompensing\\nher for the sorrows she had endured, but which gave inexpressible grace\\nto his behaviour to her. Everything was made to yield to her wishes\\nand her convenience. He strove to shelter her, as a fair exotic is\\nsheltered by the gardener, from every rougher wind and to surround her\\nwith all that could tend to excite pleasurable emotion in her soft and\\nbenevolent mind. Her health, and even the tranquillity of her hitherto\\nconstant spirit, had been shaken by what she had gone through. During\\nthe two years that had elapsed previous to their marriage my father had\\ngradually relinquished all his public functions; and immediately after\\ntheir union they sought the pleasant climate of Italy, and the change\\nof scene and interest attendant on a tour through that land of wonders,\\nas a restorative for her weakened frame.\\n\\nFrom Italy they visited Germany and France. I, their eldest child, was born\\nat Naples, and as an infant accompanied them in their rambles. I remained\\nfor several years their only child. Much as they were attached to each\\nother, they seemed to draw inexhaustible stores of affection from a very\\nmine of love to bestow them upon me. My mother’s tender caresses and\\nmy father’s smile of benevolent pleasure while regarding me are my\\nfirst recollections. I was their plaything and their idol, and something\\nbetter—their child, the innocent and helpless creature bestowed on\\nthem by Heaven, whom to bring up to good, and whose future lot it was in\\ntheir hands to direct to happiness or misery, according as they fulfilled\\ntheir duties towards me. With this deep consciousness of what they owed\\ntowards the being to which they had given life, added to the active spirit\\nof tenderness that animated both, it may be imagined that while during\\nevery hour of my infant life I received a lesson of patience, of charity,\\nand of self-control, I was so guided by a silken cord that all seemed but\\none train of enjoyment to me.\\n\\nFor a long time I was their only care. My mother had much desired to have a\\ndaughter, but I continued their single offspring. When I was about five\\nyears old, while making an excursion beyond the frontiers of Italy, they\\npassed a week on the shores of the Lake of Como. Their benevolent\\ndisposition often made them enter the cottages of the poor. This, to my\\nmother, was more than a duty; it was a necessity, a\\npassion—remembering what she had suffered, and how she had been\\nrelieved—for her to act in her turn the guardian angel to the\\nafflicted. During one of their walks a poor cot in the foldings of a vale\\nattracted their notice as being singularly disconsolate, while the number\\nof half-clothed children gathered about it spoke of penury in its worst\\nshape. One day, when my father had gone by himself to Milan, my mother,\\naccompanied by me, visited this abode. She found a peasant and his wife,\\nhard working, bent down by care and labour, distributing a scanty meal to\\nfive hungry babes. Among these there was one which attracted my mother far\\nabove all the rest. She appeared of a different stock. The four others were\\ndark-eyed, hardy little vagrants; this child was thin and very fair. Her\\nhair was the brightest living gold, and despite the poverty of her\\nclothing, seemed to set a crown of distinction on her head. Her brow was\\nclear and ample, her blue eyes cloudless, and her lips and the moulding of\\nher face so expressive of sensibility and sweetness that none could behold\\nher without looking on her as of a distinct species, a being heaven-sent,\\nand bearing a celestial stamp in all her features.\\n\\nThe peasant woman, perceiving that my mother fixed eyes of wonder and\\nadmiration on this lovely girl, eagerly communicated her history. She was\\nnot her child, but the daughter of a Milanese nobleman. Her mother was a\\nGerman and had died on giving her birth. The infant had been placed with\\nthese good people to nurse: they were better off then. They had not been\\nlong married, and their eldest child was but just born. The father of their\\ncharge was one of those Italians nursed in the memory of the antique glory\\nof Italy—one among the _schiavi ognor frementi,_ who exerted\\nhimself to obtain the liberty of his country. He became the victim of its\\nweakness. Whether he had died or still lingered in the dungeons of Austria\\nwas not known. His property was confiscated; his child became an orphan and\\na beggar. She continued with her foster parents and bloomed in their rude\\nabode, fairer than a garden rose among dark-leaved brambles.\\n\\nWhen my father returned from Milan, he found playing with me in the hall of\\nour villa a child fairer than pictured cherub—a creature who seemed\\nto shed radiance from her looks and whose form and motions were lighter\\nthan the chamois of the hills. The apparition was soon explained. With his\\npermission my mother prevailed on her rustic guardians to yield their\\ncharge to her. They were fond of the sweet orphan. Her presence had seemed\\na blessing to them, but it would be unfair to her to keep her in poverty\\nand want when Providence afforded her such powerful protection. They\\nconsulted their village priest, and the result was that Elizabeth Lavenza\\nbecame the inmate of my parents’ house—my more than\\nsister—the beautiful and adored companion of all my occupations and\\nmy pleasures.\\n\\nEveryone loved Elizabeth. The passionate and almost reverential\\nattachment with which all regarded her became, while I shared it, my\\npride and my delight. On the evening previous to her being brought to\\nmy home, my mother had said playfully, “I have a pretty present for my\\nVictor—tomorrow he shall have it.” And when, on the morrow, she\\npresented Elizabeth to me as her promised gift, I, with childish\\nseriousness, interpreted her words literally and looked upon Elizabeth\\nas mine—mine to protect, love, and cherish. All praises bestowed on\\nher I received as made to a possession of my own. We called each other\\nfamiliarly by the name of cousin. No word, no expression could body\\nforth the kind of relation in which she stood to me—my more than\\nsister, since till death she was to be mine only.\\n\\n\\n\\n\\n'"
            ],
            "application/vnd.google.colaboratory.intrinsic+json": {
              "type": "string"
            }
          },
          "metadata": {},
          "execution_count": 528
        }
      ]
    },
    {
      "cell_type": "code",
      "metadata": {
        "colab": {
          "base_uri": "https://localhost:8080/"
        },
        "id": "ghILIorhaQWp",
        "outputId": "df46ed09-2fd3-403a-9a8a-94073cca4d03"
      },
      "source": [
        "bullet_points = summary(chapter_n, 5, False, eig = False)"
      ],
      "execution_count": null,
      "outputs": [
        {
          "output_type": "stream",
          "name": "stdout",
          "text": [
            "Paso 1. Obteniendo oraciones\n",
            "# oraciones: 74\n",
            "Paso 2. Procesando texto\n",
            "Paso 3. Creando matriz de similitud\n",
            "Paso 4. Normalizando matriz de similitud\n",
            "Paso 5. Ejecutando TextRank\n",
            "\tPaso 5. Terminado\n"
          ]
        }
      ]
    },
    {
      "cell_type": "code",
      "metadata": {
        "id": "7xh7Q-Cnagx5",
        "colab": {
          "base_uri": "https://localhost:8080/"
        },
        "outputId": "8fa384d9-95cb-4048-ef85-5b5cf1cdc75f"
      },
      "source": [
        "print_bullet_points(bullet_points)"
      ],
      "execution_count": null,
      "outputs": [
        {
          "output_type": "stream",
          "name": "stdout",
          "text": [
            "- Her father grew worse; her time\n",
            "was more entirely occupied in attending him; her means of subsistence\n",
            "decreased; and in the tenth month her father died in her arms, leaving\n",
            "her an orphan and a beggar.\n",
            "\n",
            "- One day, when my father had gone by himself to Milan, my mother,\n",
            "accompanied by me, visited this abode.\n",
            "\n",
            "- When my father returned from Milan, he found playing with me in the hall of\n",
            "our villa a child fairer than pictured cherub—a creature who seemed\n",
            "to shed radiance from her looks and whose form and motions were lighter\n",
            "than the chamois of the hills.\n",
            "\n",
            "- The father of their\n",
            "charge was one of those Italians nursed in the memory of the antique glory\n",
            "of Italy—one among the _schiavi ognor frementi,_ who exerted\n",
            "himself to obtain the liberty of his country.\n",
            "\n",
            "- He passed his younger days perpetually occupied by the\n",
            "affairs of his country; a variety of circumstances had prevented his\n",
            "marrying early, nor was it until the decline of life that he became a\n",
            "husband and the father of a family.\n",
            "\n"
          ]
        }
      ]
    },
    {
      "cell_type": "markdown",
      "metadata": {
        "id": "FZkOKPyqbPUy"
      },
      "source": [
        "# Ejercicios"
      ]
    },
    {
      "cell_type": "markdown",
      "metadata": {
        "id": "8FceaxoTbVgN"
      },
      "source": [
        "## Matriz de similitud entre oraciones\n",
        "\n",
        "Para la similitud entre las oraciones se uso el número de palabras que aparecen en ambas. **Reemplazar por similitud coseno** y comparar los resultados.\n",
        "\n",
        "Un muy buen primer acercamiento podría ser usando Latent Semantic Analysis y calcular la similitud coseno entre todos los documentos.\n",
        "\n",
        "Si tienen una DataFrame con las columnas ```[id_documento_1, id_documento_2, similitud]```, usar la función [```pandas.DataFrame.pivot```](https://pandas.pydata.org/docs/reference/api/pandas.DataFrame.pivot.html) puede ayudar a crear la matriz de similitud, dicha función toma como argumentos \"index\", \"columns\" y \"values\".\n",
        "\n",
        "\n"
      ]
    },
    {
      "cell_type": "markdown",
      "metadata": {
        "id": "zJt0u90fgAWH"
      },
      "source": [
        "## Oraciones vs. Palabras\n",
        "\n",
        "En este Notebook utilizamos las oraciones para obtener el resumen, de haber utilizado las palabras, de TextRank obtendríamos las palabras clave del texto.\n",
        "\n",
        "Implementar TextRank con palabras. Para la matriz de similitud (o adyacencias), se pueden ligar las palabras que son consecutivas o definir una ventana de k palabras consecutivas en cada oración (parecido a skip-gram) y ligar todas estas palabras. En este caso, la matriz A tendría la dimensión del vocabulario (lista de palabras únicas) y tendría un 1 si las palabras están ligadas.\n",
        "\n",
        "Una alternativa más sería ocupar un embedding de palabras (e.g. word2vec) y calcular la similitud coseno entre los vectores de cada palabra para llenas a A.\n",
        "\n",
        "Después de eso, todo sería lo mismo."
      ]
    },
    {
      "cell_type": "markdown",
      "metadata": {
        "id": "HqBKwF5MfShn"
      },
      "source": [
        "## Idioma *\n",
        "\n",
        "Este ejemplo esta hecho para texto en inglés por las stopwords que se usan y el radicalizador (PorterStemmer). Hacer los cambios necesarios para que reciba textos en español.\n",
        "\n",
        "Esto es, cambiar las stopwords (nltk tiene stopwords en español) y el radicalizador (Pista: ```nltk.stemmer``` tiene más radicalizadores y uno de ellos tienen un algoritmo para el español)"
      ]
    },
    {
      "cell_type": "markdown",
      "metadata": {
        "id": "LdXDlhlAkkPt"
      },
      "source": [
        "## Resumen sobre un tema *\n",
        "\n",
        "Aquí usamos sólo un documento para aplicarle TextRank. Podemos tener un corpus de documentos del mismo tema (e.g. noticias sobre el AIFA, etc) y aplicarlo para obtener los puntos importantes de todo el corpus.\n",
        "\n",
        "A la implementación actual no se le tiene que cambiar nada, sólo concatenar en una sola cadena de texto todo el corpus.\n",
        "\n",
        "Ejercicio: Construir un corpus con 4 artículos sobre un tema de interés, concatenarlos y pasarlo como parámetro a la función ```summary```."
      ]
    },
    {
      "cell_type": "markdown",
      "metadata": {
        "id": "sRPeC_Mjre7_"
      },
      "source": [
        "## Mejorar la función ```summary```\n",
        "\n",
        "Podemos dividir el código de la función para que funcionen como módulos y permita cierta libertad a la hora de ejecutarse. Por ejemplo, podríamos tener varias funciones que calculen la matriz A de diferentes maneras y que dentro de ```summary``` se ejecute una de tantas de acuerdo a un parámetro de la función.\n",
        "\n",
        "Ejercicio: Crear funciones para cada paso de ```summary```"
      ]
    },
    {
      "cell_type": "markdown",
      "metadata": {
        "id": "flM_zk_I0HAW"
      },
      "source": [
        "# Sobre la obtención de los valores de PageRank\n",
        "\n",
        "https://nlp.stanford.edu/IR-book/html/htmledition/the-pagerank-computation-1.html\n",
        "\n",
        "https://nlp.stanford.edu/IR-book/html/htmledition/markov-chains-1.html"
      ]
    }
  ]
}